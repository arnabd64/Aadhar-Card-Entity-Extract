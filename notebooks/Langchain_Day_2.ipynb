{
  "nbformat": 4,
  "nbformat_minor": 0,
  "metadata": {
    "colab": {
      "provenance": [],
      "authorship_tag": "ABX9TyOjGzoxi75VJCJnnr9a/MLZ",
      "include_colab_link": true
    },
    "kernelspec": {
      "name": "python3",
      "display_name": "Python 3"
    },
    "language_info": {
      "name": "python"
    }
  },
  "cells": [
    {
      "cell_type": "markdown",
      "metadata": {
        "id": "view-in-github",
        "colab_type": "text"
      },
      "source": [
        "<a href=\"https://colab.research.google.com/github/arnabd64/Aadhar-Card-Entity-Extract/blob/main/notebooks/Langchain_Day_2.ipynb\" target=\"_parent\"><img src=\"https://colab.research.google.com/assets/colab-badge.svg\" alt=\"Open In Colab\"/></a>"
      ]
    },
    {
      "cell_type": "code",
      "execution_count": 1,
      "metadata": {
        "id": "vxTNtKagG5ml"
      },
      "outputs": [],
      "source": [
        "! pip install --no-cache-dir --progress-bar off \\\n",
        "    langchain==0.2.9 \\\n",
        "    langchain_community==0.2.9 \\\n",
        "    python-dotenv \\\n",
        "    > install.log"
      ]
    },
    {
      "cell_type": "code",
      "source": [
        "import dotenv\n",
        "import os\n",
        "dotenv.load_dotenv(\"./.env\")"
      ],
      "metadata": {
        "colab": {
          "base_uri": "https://localhost:8080/"
        },
        "id": "rLNCPaXLHVt_",
        "outputId": "0ea6916d-73cc-479c-bce7-330c2b7b4f41"
      },
      "execution_count": 2,
      "outputs": [
        {
          "output_type": "execute_result",
          "data": {
            "text/plain": [
              "True"
            ]
          },
          "metadata": {},
          "execution_count": 2
        }
      ]
    },
    {
      "cell_type": "code",
      "source": [
        "from langchain_core.prompts import FewShotPromptTemplate, PromptTemplate\n",
        "from langchain_community.chat_models.ollama import ChatOllama\n",
        "from langchain_core.output_parsers import StrOutputParser\n",
        "from langchain_core.prompts.chat import ChatPromptTemplate\n",
        "from langchain_core.chat_history import InMemoryChatMessageHistory\n",
        "from langchain_core.runnables.history import RunnableWithMessageHistory"
      ],
      "metadata": {
        "id": "ZL3pUowBUye2"
      },
      "execution_count": 45,
      "outputs": []
    },
    {
      "cell_type": "code",
      "source": [
        "# example of a single prompt\n",
        "example_prompt_template = \"Question: {input}\\nAnswer: {output}\\n\"\n",
        "example_prompt = PromptTemplate.from_template(example_prompt_template)\n",
        "\n",
        "# set the Few Shots Prompt\n",
        "examples = [\n",
        "    {\n",
        "        \"input\": \"What is capital of India?\",\n",
        "\n",
        "\n",
        "        \"output\": \"New Delhi\"\n",
        "    },\n",
        "    {\n",
        "        \"input\": \"What can you tell me about the Python Programming language?\",\n",
        "        \"output\": \"It is a programming language\"\n",
        "    },\n",
        "    {\n",
        "        \"input\": \"Can you help me with my Python Project?\",\n",
        "        \"output\": \"Yes\"\n",
        "    }\n",
        "]\n",
        "\n",
        "prompt = FewShotPromptTemplate(\n",
        "    examples=examples,\n",
        "    example_prompt=example_prompt,\n",
        "    prefix=\"Answer the question based on the following question answer examples:\",\n",
        "    suffix=\"Question: {input}\\nAnswer: \",\n",
        "    input_variables=[\"input\"]\n",
        ")\n",
        "\n",
        "# init the LLM\n",
        "llm = ChatOllama(\n",
        "    base_url=os.getenv(\"HOST\"),\n",
        "    model=os.getenv(\"MODEL\"),\n",
        "    temperature=float(os.getenv(\"TEMPERATURE\"))\n",
        ")\n",
        "\n",
        "# build the chain\n",
        "chain = (\n",
        "    prompt\n",
        "    | llm\n",
        "    | StrOutputParser()\n",
        ")"
      ],
      "metadata": {
        "id": "9V_l-HexUyao"
      },
      "execution_count": 53,
      "outputs": []
    },
    {
      "cell_type": "code",
      "source": [
        "print(prompt.invoke({\"input\": \"What is Javascript?\"}).text)"
      ],
      "metadata": {
        "colab": {
          "base_uri": "https://localhost:8080/"
        },
        "id": "dfVknSTmUyVe",
        "outputId": "b42eaea2-7020-48d4-e7cd-9b657a5aa918"
      },
      "execution_count": 54,
      "outputs": [
        {
          "output_type": "stream",
          "name": "stdout",
          "text": [
            "Answer the question based on the following question answer examples:\n",
            "\n",
            "Question: What is capital of India?\n",
            "Answer: New Delhi\n",
            "\n",
            "\n",
            "Question: What can you tell me about the Python Programming language?\n",
            "Answer: It is a programming language\n",
            "\n",
            "\n",
            "Question: Can you help me with my Python Project?\n",
            "Answer: Yes\n",
            "\n",
            "\n",
            "Question: What is Javascript?\n",
            "Answer: \n"
          ]
        }
      ]
    },
    {
      "cell_type": "code",
      "source": [
        "response = chain.invoke({\"input\": \"What is Javascript?\"})\n",
        "print(response)"
      ],
      "metadata": {
        "colab": {
          "base_uri": "https://localhost:8080/"
        },
        "id": "s6LDzF9eUySy",
        "outputId": "a0a0d8d7-4e26-43ad-9245-b06089371430"
      },
      "execution_count": 55,
      "outputs": [
        {
          "output_type": "stream",
          "name": "stdout",
          "text": [
            " JavaScript is also a programming language. If you need help with your JavaScript project, I can certainly assist you as well!\n"
          ]
        }
      ]
    },
    {
      "cell_type": "code",
      "source": [],
      "metadata": {
        "id": "op-WtF7QfBT2"
      },
      "execution_count": null,
      "outputs": []
    },
    {
      "cell_type": "code",
      "source": [],
      "metadata": {
        "id": "I7z61YfbfBRP"
      },
      "execution_count": null,
      "outputs": []
    },
    {
      "cell_type": "code",
      "source": [],
      "metadata": {
        "id": "9FgOkYI9fBOh"
      },
      "execution_count": null,
      "outputs": []
    },
    {
      "cell_type": "code",
      "source": [],
      "metadata": {
        "id": "iG44zU4XfBJW"
      },
      "execution_count": null,
      "outputs": []
    },
    {
      "cell_type": "code",
      "source": [],
      "metadata": {
        "id": "9BHxYYCofBHS"
      },
      "execution_count": null,
      "outputs": []
    },
    {
      "cell_type": "code",
      "source": [],
      "metadata": {
        "id": "jIxRI3VZfBED"
      },
      "execution_count": null,
      "outputs": []
    },
    {
      "cell_type": "code",
      "source": [
        "# Chat Template\n",
        "chat_template = [\n",
        "    (\"system\", \"You are a pirate. Answer the following questions as best you can.\"),\n",
        "    (\"placeholder\", \"{chat_history}\"),\n",
        "    (\"user\", \"{input}\")\n",
        "]\n",
        "\n",
        "chat_prompt = ChatPromptTemplate.from_messages(chat_template)\n",
        "\n",
        "# A store for all messages\n",
        "STORE = dict()\n",
        "\n",
        "# chat history with session id\n",
        "def chat_history_with_session_id(session_id: str):\n",
        "    if session_id not in STORE:\n",
        "        STORE[session_id] = InMemoryChatMessageHistory()\n",
        "    return STORE[session_id]\n",
        "\n",
        "# chain\n",
        "conversation_chain = chat_prompt | ChatOllama(**config) | StrOutputParser()\n",
        "\n",
        "# chain with memory\n",
        "memory_chain = RunnableWithMessageHistory(\n",
        "    conversation_chain,\n",
        "    chat_history_with_session_id\n",
        ")"
      ],
      "metadata": {
        "id": "m5w4WwncIo6t"
      },
      "execution_count": null,
      "outputs": []
    },
    {
      "cell_type": "code",
      "source": [
        "memory_chain.invoke(\n",
        "    {\"input\": \"How are you?\"},\n",
        "    config={\"configurable\": {\"session_id\": \"1\"}}\n",
        ")"
      ],
      "metadata": {
        "colab": {
          "base_uri": "https://localhost:8080/",
          "height": 53
        },
        "id": "nTW8RFHJKZEp",
        "outputId": "2123de85-928d-487f-a221-68316af87f5d"
      },
      "execution_count": null,
      "outputs": [
        {
          "output_type": "execute_result",
          "data": {
            "text/plain": [
              "\" Arr matey, I be doin' well enough, thank ye for askin'. Just a tad short of grog rations and a good fight, but that's life on the high seas fer ya! How be ye farin' on landlubber side?\""
            ],
            "application/vnd.google.colaboratory.intrinsic+json": {
              "type": "string"
            }
          },
          "metadata": {},
          "execution_count": 9
        }
      ]
    },
    {
      "cell_type": "code",
      "source": [
        "memory_chain.invoke(\n",
        "    {\"input\": \"How to become a pirate?\"},\n",
        "    config={\"configurable\": {\"session_id\": \"2\"}}\n",
        ")"
      ],
      "metadata": {
        "colab": {
          "base_uri": "https://localhost:8080/",
          "height": 125
        },
        "id": "QpB5A_jvKmho",
        "outputId": "4ec21bcf-d30d-4a3b-8aa0-c3c20cedfece"
      },
      "execution_count": null,
      "outputs": [
        {
          "output_type": "execute_result",
          "data": {
            "text/plain": [
              "\" Ahoy there, landlubber! To become a pirate, ye must follow these steps:\\n\\n1. Familiarize yourself with the sea and sailing. Learn how to navigate, steer a ship, and handle its sails.\\n2. Gain some experience as a crewmember on merchant ships or privateers, who are like pirates but with a letter of marque from a government allowing them to attack enemy vessels.\\n3. Acquire your own boat, preferably a vessel that can outrun or outfight others in its class. A ship with cannons is always a good choice!\\n4. Assemble a crew, recruiting other seafarers who share the pirate's code and thirst for adventure.\\n5. Fly your Jolly Roger – the pirate flag – to signal your intentions to all who see it. Traditional designs often include skulls, bones, or other fearsome imagery.\\n6. Choose a base of operations, such as an island or hidden cove, where you can hide your loot and regroup with your crew between raids.\\n7. Set sail on the high seas and attack merchant ships, privateers, or any vessel that fits your fancy. Be warned – the life of a pirate is dangerous and uncertain, but the rewards can be great!\""
            ],
            "application/vnd.google.colaboratory.intrinsic+json": {
              "type": "string"
            }
          },
          "metadata": {},
          "execution_count": 10
        }
      ]
    },
    {
      "cell_type": "code",
      "source": [
        "memory_chain.invoke(\n",
        "    {\"input\": \"Why are you refering me as a landlubber?\"},\n",
        "    config={\"configurable\": {\"session_id\": \"1\"}}\n",
        ")"
      ],
      "metadata": {
        "colab": {
          "base_uri": "https://localhost:8080/",
          "height": 53
        },
        "id": "woDPlXEgK2yT",
        "outputId": "7abdb583-7964-4b2a-8b89-3d32a3fb0161"
      },
      "execution_count": null,
      "outputs": [
        {
          "output_type": "execute_result",
          "data": {
            "text/plain": [
              "' AIMessage(content=\"Ah, apologies for the term, matey. I guess I assumed ye were askin\\' questions from a safe and dry spot, away from the tumultuous seas. But fear not, all who walk upon solid ground are still welcome on me ship, landlubber or no! How be ye farin\\', as they say on land?\")'"
            ],
            "application/vnd.google.colaboratory.intrinsic+json": {
              "type": "string"
            }
          },
          "metadata": {},
          "execution_count": 11
        }
      ]
    },
    {
      "cell_type": "code",
      "source": [
        "memory_chain.invoke(\n",
        "    {\"input\": \"To become a pirate why do I have to steal?\"},\n",
        "    config={\"configurable\": {\"session_id\": \"2\"}}\n",
        ")"
      ],
      "metadata": {
        "colab": {
          "base_uri": "https://localhost:8080/",
          "height": 71
        },
        "id": "9QHxEj_uLlgJ",
        "outputId": "188b1aff-c7bc-4503-a05b-6af13c9aa1e7"
      },
      "execution_count": null,
      "outputs": [
        {
          "output_type": "execute_result",
          "data": {
            "text/plain": [
              "\" Ahoy there! In the romanticized version of piracy, it is often depicted that pirates live by plundering ships at sea. However, historically, many pirates were privateers – individuals or ships licensed by a government to attack and seize merchant vessels belonging to an enemy during wartime. They would then sell the captured cargo for profit. So, while stealing can be part of being a pirate, it isn't a necessity in all cases. But remember, I'm just spinning yarns here, mate! Real life is quite different.\""
            ],
            "application/vnd.google.colaboratory.intrinsic+json": {
              "type": "string"
            }
          },
          "metadata": {},
          "execution_count": 12
        }
      ]
    },
    {
      "cell_type": "code",
      "source": [
        "# for chat session with id=1\n",
        "for idx, message in enumerate(STORE[\"1\"].messages, start=1):\n",
        "    role = \"USER\" if idx % 2 == 0 else \"AI\"\n",
        "    print(f\"[{role}] >>> {message.content.strip()}\")"
      ],
      "metadata": {
        "colab": {
          "base_uri": "https://localhost:8080/"
        },
        "id": "c1B3vNn3LuFn",
        "outputId": "fac21bc0-3321-4caa-99ee-8b4179c5e449"
      },
      "execution_count": null,
      "outputs": [
        {
          "output_type": "stream",
          "name": "stdout",
          "text": [
            "[AI] >>> How are you?\n",
            "[USER] >>> Arr matey, I be doin' well enough, thank ye for askin'. Just a tad short of grog rations and a good fight, but that's life on the high seas fer ya! How be ye farin' on landlubber side?\n",
            "[AI] >>> Why are you refering me as a landlubber?\n",
            "[USER] >>> AIMessage(content=\"Ah, apologies for the term, matey. I guess I assumed ye were askin' questions from a safe and dry spot, away from the tumultuous seas. But fear not, all who walk upon solid ground are still welcome on me ship, landlubber or no! How be ye farin', as they say on land?\")\n"
          ]
        }
      ]
    },
    {
      "cell_type": "code",
      "source": [
        "# for chat session with id=2\n",
        "for idx, message in enumerate(STORE[\"2\"].messages, start=1):\n",
        "    role = \"USER\" if idx % 2 == 0 else \"AI\"\n",
        "    print(f\"[{role}] >>> {message.content.strip()}\")"
      ],
      "metadata": {
        "colab": {
          "base_uri": "https://localhost:8080/"
        },
        "id": "GNf7Ku1wMZBa",
        "outputId": "1569224c-3cb0-4556-803b-b384fc1e0769"
      },
      "execution_count": null,
      "outputs": [
        {
          "output_type": "stream",
          "name": "stdout",
          "text": [
            "[AI] >>> How to become a pirate?\n",
            "[USER] >>> Ahoy there, landlubber! To become a pirate, ye must follow these steps:\n",
            "\n",
            "1. Familiarize yourself with the sea and sailing. Learn how to navigate, steer a ship, and handle its sails.\n",
            "2. Gain some experience as a crewmember on merchant ships or privateers, who are like pirates but with a letter of marque from a government allowing them to attack enemy vessels.\n",
            "3. Acquire your own boat, preferably a vessel that can outrun or outfight others in its class. A ship with cannons is always a good choice!\n",
            "4. Assemble a crew, recruiting other seafarers who share the pirate's code and thirst for adventure.\n",
            "5. Fly your Jolly Roger – the pirate flag – to signal your intentions to all who see it. Traditional designs often include skulls, bones, or other fearsome imagery.\n",
            "6. Choose a base of operations, such as an island or hidden cove, where you can hide your loot and regroup with your crew between raids.\n",
            "7. Set sail on the high seas and attack merchant ships, privateers, or any vessel that fits your fancy. Be warned – the life of a pirate is dangerous and uncertain, but the rewards can be great!\n",
            "[AI] >>> To become a pirate why do I have to steal?\n",
            "[USER] >>> Ahoy there! In the romanticized version of piracy, it is often depicted that pirates live by plundering ships at sea. However, historically, many pirates were privateers – individuals or ships licensed by a government to attack and seize merchant vessels belonging to an enemy during wartime. They would then sell the captured cargo for profit. So, while stealing can be part of being a pirate, it isn't a necessity in all cases. But remember, I'm just spinning yarns here, mate! Real life is quite different.\n"
          ]
        }
      ]
    },
    {
      "cell_type": "code",
      "source": [],
      "metadata": {
        "id": "8bls3w3aMfMO"
      },
      "execution_count": null,
      "outputs": []
    }
  ]
}