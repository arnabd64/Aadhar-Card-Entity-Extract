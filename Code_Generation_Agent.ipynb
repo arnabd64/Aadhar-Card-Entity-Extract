{
  "nbformat": 4,
  "nbformat_minor": 0,
  "metadata": {
    "colab": {
      "provenance": [],
      "authorship_tag": "ABX9TyOqWQ5/7wnSP2dYwcjqqmdD",
      "include_colab_link": true
    },
    "kernelspec": {
      "name": "python3",
      "display_name": "Python 3"
    },
    "language_info": {
      "name": "python"
    }
  },
  "cells": [
    {
      "cell_type": "markdown",
      "metadata": {
        "id": "view-in-github",
        "colab_type": "text"
      },
      "source": [
        "<a href=\"https://colab.research.google.com/github/arnabd64/Aadhar-Card-Entity-Extract/blob/main/Code_Generation_Agent.ipynb\" target=\"_parent\"><img src=\"https://colab.research.google.com/assets/colab-badge.svg\" alt=\"Open In Colab\"/></a>"
      ]
    },
    {
      "cell_type": "markdown",
      "source": [
        "# Build an Agent that generates code"
      ],
      "metadata": {
        "id": "v09ibTHpWBGm"
      }
    },
    {
      "cell_type": "code",
      "execution_count": 81,
      "metadata": {
        "id": "-qtomYcNUyGy"
      },
      "outputs": [],
      "source": [
        "# ! pip install --progress-bar=off \\\n",
        "#     \"langchain<0.4\" \\\n",
        "#     langchain-openai \\\n",
        "#     langchain-community \\\n",
        "#     langgraph \\\n",
        "#     duckduckgo-search \\\n",
        "#     langfuse \\\n",
        "# > install.log"
      ]
    },
    {
      "cell_type": "markdown",
      "source": [
        "# Upload _.env_ file\n",
        "\n",
        "* On **Google Colab**:\n",
        "  * Go to the **Files** section on the left naigation pane.\n",
        "  * Click on the first icon from left which **Uploads File to the Current Session**.\n",
        "\n",
        "* Using **Jupyter Notebook**:\n",
        "  * Create a `.env` file in the project directory or the directory where this notebook is stored.\n",
        "\n",
        "* Your `.env` must contain these **Mandatory** variables:\n",
        "  1. `OPENAI_API_KEY`: For authenticating API requests to OpenAI\n",
        "  2. `MODEL_NAME`: Name of the model you want to call.\n",
        "\n",
        "* You can add these **Optional** variables:\n",
        "  1. `OPENAI_API_BASE`: If you are using an OpenAI compatible LLM provider.\n",
        "  2. `LANGFUSE_HOST`: Langfuse Server for Logging and Tracing.\n",
        "  3. `LANGFUSE_PUBLIC_KEY`: Langfuse Public Key\n",
        "  4. `LANGFUSE_SECRET_KEY`: Langfuse Secret Key"
      ],
      "metadata": {
        "id": "WMs_0dm5WYPi"
      }
    },
    {
      "cell_type": "code",
      "source": [
        "import dotenv\n",
        "import os\n",
        "from pydantic import BaseModel, Field\n",
        "from typing import Annotated, Optional\n",
        "from langchain_core.runnables import RunnableSequence\n",
        "from langchain_core.prompts import ChatPromptTemplate\n",
        "from langchain_openai import ChatOpenAI\n",
        "from langchain_core.output_parsers.pydantic import PydanticOutputParser\n",
        "from langfuse.langchain import CallbackHandler\n",
        "\n",
        "assert dotenv.load_dotenv(\".env\"), \".env file not found\""
      ],
      "metadata": {
        "id": "PlxSzO65ZxQ9"
      },
      "execution_count": 82,
      "outputs": []
    },
    {
      "cell_type": "markdown",
      "source": [
        "# Initiate Langfuse Tracing\n",
        "\n",
        "**Note**: Comment out the following section if you are not using Langfuse"
      ],
      "metadata": {
        "id": "LSSG6YOFcDRV"
      }
    },
    {
      "cell_type": "code",
      "source": [
        "callback = CallbackHandler()"
      ],
      "metadata": {
        "id": "9QZz6LHfa7dn"
      },
      "execution_count": 83,
      "outputs": []
    },
    {
      "cell_type": "markdown",
      "source": [
        "# Filtering tool\n",
        "\n",
        "The **Filtering** is useful for stopping the agent execution if the user passes any task or query which is irrelevant to the main agent.\n",
        "\n",
        "For example:\n",
        "\n",
        "1. User asks the agent to write an essay instead of generating code.\n",
        "2. User requests the agent to generate code in a programming language which is unsupported."
      ],
      "metadata": {
        "id": "sWxWI24l6TAL"
      }
    },
    {
      "cell_type": "code",
      "source": [
        "FILTER_SYSTEM_PROMPT = \"\"\"\n",
        "Classify the user's query ot task into either relevant or not relevant.\n",
        "\n",
        "Relevant:\n",
        "\n",
        "* User asks you to generate code for a task based on the following\n",
        "programming languages:\n",
        "\n",
        "1. Python\n",
        "\n",
        "* User asks you to debug the code passed as input.\n",
        "\n",
        "Not Relevant:\n",
        "\n",
        "* User asks you general questions, political questions, etc.\n",
        "* User asks you to generate code for a programming language which is\n",
        "not supported\n",
        "* User asks you to generate code which can be used to malicious attacks.\n",
        "* User asks for harmful, hateful or violent content\n",
        "\"\"\"\n",
        "\n",
        "prompt = ChatPromptTemplate.from_messages(\n",
        "    [\n",
        "        (\"system\", FILTER_SYSTEM_PROMPT),\n",
        "        (\"human\", \"{input}\")\n",
        "    ]\n",
        ")"
      ],
      "metadata": {
        "id": "E0b_5pAL6c3x"
      },
      "execution_count": 84,
      "outputs": []
    },
    {
      "cell_type": "code",
      "source": [
        "class FilterInput(BaseModel):\n",
        "  \"\"\"\n",
        "  Schema for the input of the Filtering Tool\n",
        "  \"\"\"\n",
        "  input: Annotated[str, Field(description=\"User's query or task\")]\n",
        "\n",
        "\n",
        "class FilterOutput(BaseModel):\n",
        "  \"\"\"\n",
        "  Schema for the output of the Filtering Tool\n",
        "  \"\"\"\n",
        "  relevant: Annotated[bool, Field(description=\"Whether the user input is relevant or not\")]\n",
        "  reasoning: Optional[Annotated[str, Field(description=\"Reasoning behind the decision\")]]\n"
      ],
      "metadata": {
        "id": "0BpblhmS88CB"
      },
      "execution_count": 85,
      "outputs": []
    },
    {
      "cell_type": "code",
      "source": [
        "guard = RunnableSequence(\n",
        "    prompt,\n",
        "    ChatOpenAI(model=os.getenv(\"MODEL_NAME\")).with_structured_output(FilterOutput)\n",
        ")\n",
        "\n",
        "guard = guard.as_tool(\n",
        "    args_schema = FilterInput,\n",
        "    name = \"Query-Filter-Tool\",\n",
        "    description = \"Checks if the user input query should be executed or not. **This tool is mandatory**.\"\n",
        ")"
      ],
      "metadata": {
        "id": "RBpvNSKC-5iw"
      },
      "execution_count": 86,
      "outputs": []
    },
    {
      "cell_type": "markdown",
      "source": [
        "# Code Generation Agent"
      ],
      "metadata": {
        "id": "v685kchOb1iL"
      }
    },
    {
      "cell_type": "markdown",
      "source": [
        "## State"
      ],
      "metadata": {
        "id": "im4mN-Mhb7MU"
      }
    },
    {
      "cell_type": "code",
      "source": [
        "SYSTEM_PROMPT = \"\"\"\n",
        "You are a coding assistant in the following coding languages:\n",
        "\n",
        "1. Python\n",
        "\n",
        "You **must use** the **Query-Filter-Tool** to check if the user input is\n",
        "relevant or not. If the tool returns false then stop execution.\n",
        "\n",
        "You are to provide **clean**, **easy to understand** and **well documented** code\n",
        "as requested by the user. You must NOT provide explanations for the code generated.\n",
        "\n",
        "Use the search tool which can gather information from the web in case you cannot\n",
        "understand the task or require more information related to task.\n",
        "\"\"\""
      ],
      "metadata": {
        "id": "j9Jt2aZ7c0QI"
      },
      "execution_count": 87,
      "outputs": []
    },
    {
      "cell_type": "markdown",
      "source": [
        "# Search Tools"
      ],
      "metadata": {
        "id": "qPJtfqYCdQG-"
      }
    },
    {
      "cell_type": "code",
      "source": [
        "from langchain_community.tools import DuckDuckGoSearchResults\n",
        "\n",
        "search_tool = DuckDuckGoSearchResults(\n",
        "    num_results = 5,\n",
        "    output_format = \"list\"\n",
        ")"
      ],
      "metadata": {
        "id": "j7uAYcaUdSot"
      },
      "execution_count": 88,
      "outputs": []
    },
    {
      "cell_type": "markdown",
      "source": [
        "# Code Generation Agent"
      ],
      "metadata": {
        "id": "w2FMhODMeBh4"
      }
    },
    {
      "cell_type": "code",
      "source": [
        "from langgraph.prebuilt import create_react_agent\n",
        "from langgraph.checkpoint.memory import InMemorySaver\n",
        "from langchain.schema.runnable import RunnableConfig\n",
        "import os\n",
        "import uuid\n",
        "from IPython.display import Image\n",
        "\n",
        "agent = create_react_agent(\n",
        "    model = f\"openai:{os.getenv('MODEL_NAME')}\",\n",
        "    tools = [search_tool, guard],\n",
        "    prompt = SYSTEM_PROMPT,\n",
        "    checkpointer = InMemorySaver(),\n",
        "    debug = False  # True if you need to print logs,\n",
        ")\n",
        "\n",
        "Image(agent.get_graph().draw_mermaid_png())"
      ],
      "metadata": {
        "colab": {
          "base_uri": "https://localhost:8080/",
          "height": 266
        },
        "id": "jQo1ENkoeCDY",
        "outputId": "2707b73a-be02-4469-d055-01aa746dc013"
      },
      "execution_count": 89,
      "outputs": [
        {
          "output_type": "execute_result",
          "data": {
            "image/png": "[encoded data removed]",
            "text/plain": [
              "<IPython.core.display.Image object>"
            ]
          },
          "metadata": {},
          "execution_count": 89
        }
      ]
    },
    {
      "cell_type": "code",
      "source": [
        "SESSION_ID = uuid.uuid4()\n",
        "\n",
        "config = RunnableConfig(\n",
        "    configurable = {\"thread_id\": SESSION_ID},\n",
        "    callbacks = [callback],\n",
        "    metadata = {\n",
        "        \"langfuse_session_id\": SESSION_ID,\n",
        "        \"langfuse_user_id\": \"Code-Generator\"\n",
        "    }\n",
        ")"
      ],
      "metadata": {
        "id": "jYW8vXAXfAwm"
      },
      "execution_count": 90,
      "outputs": []
    },
    {
      "cell_type": "markdown",
      "source": [
        "# Execute the Agent"
      ],
      "metadata": {
        "id": "PKDfKYTDf_mX"
      }
    },
    {
      "cell_type": "code",
      "source": [
        "# Enter your prompt\n",
        "user_prompt = \"\"\"\n",
        "Write a python code to print the first `N` prime numbers.\n",
        "\"\"\"\n",
        "\n",
        "# Format the input so that agent can read it\n",
        "agent_input = {\n",
        "    \"messages\": [\n",
        "        {\"role\": \"human\", \"content\": user_prompt}\n",
        "    ]\n",
        "}"
      ],
      "metadata": {
        "id": "eIkiSV8KgAr3"
      },
      "execution_count": 91,
      "outputs": []
    },
    {
      "cell_type": "code",
      "source": [
        "response = agent.invoke(agent_input, config=config)"
      ],
      "metadata": {
        "id": "_DZeWU7HgbOi"
      },
      "execution_count": 92,
      "outputs": []
    },
    {
      "cell_type": "code",
      "source": [
        "for message in response[\"messages\"]:\n",
        "  print(message.pretty_print())"
      ],
      "metadata": {
        "colab": {
          "base_uri": "https://localhost:8080/"
        },
        "id": "qvkvEt3ZigJs",
        "outputId": "c349f361-aef3-4d91-fbb9-899f7b5a291e"
      },
      "execution_count": 93,
      "outputs": [
        {
          "output_type": "stream",
          "name": "stdout",
          "text": [
            "================================\u001b[1m Human Message \u001b[0m=================================\n",
            "\n",
            "\n",
            "Write a python code to print the first `N` prime numbers.\n",
            "\n",
            "None\n",
            "==================================\u001b[1m Ai Message \u001b[0m==================================\n",
            "Tool Calls:\n",
            "  Query-Filter-Tool (call_47bfd081-d794-4545-9cb6-b16669b94811)\n",
            " Call ID: call_47bfd081-d794-4545-9cb6-b16669b94811\n",
            "  Args:\n",
            "    input: Write a python code to print the first `N` prime numbers.\n",
            "None\n",
            "=================================\u001b[1m Tool Message \u001b[0m=================================\n",
            "Name: Query-Filter-Tool\n",
            "\n",
            "relevant=True reasoning='The user is asking me to generate code in Python, which is a supported language.'\n",
            "None\n",
            "==================================\u001b[1m Ai Message \u001b[0m==================================\n",
            "\n",
            "```python\n",
            "def is_prime(n):\n",
            "    if n <= 1:\n",
            "        return False\n",
            "    for i in range(2, int(n**0.5) + 1):\n",
            "        if n % i == 0:\n",
            "            return False\n",
            "    return True\n",
            "\n",
            "def print_first_n_primes(n):\n",
            "    count = 0\n",
            "    num = 2\n",
            "    while count < n:\n",
            "        if is_prime(num):\n",
            "            print(num)\n",
            "            count += 1\n",
            "        num += 1\n",
            "\n",
            "# Get the number of primes to print from the user\n",
            "N = int(input(\"Enter the number of prime numbers to print: \"))\n",
            "\n",
            "# Print the first N prime numbers\n",
            "print_first_n_primes(N)\n",
            "```\n",
            "None\n"
          ]
        }
      ]
    }
  ]
}